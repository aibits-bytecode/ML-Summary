{
 "cells": [
  {
   "cell_type": "markdown",
   "id": "8beafca9",
   "metadata": {},
   "source": [
    "## Tips on jupyter"
   ]
  },
  {
   "cell_type": "code",
   "execution_count": 3,
   "id": "8e1066ca",
   "metadata": {},
   "outputs": [],
   "source": [
    "# d - Delete cell using d twice :)\n",
    "# a - add cell above\n",
    "# b - add cell below\n"
   ]
  },
  {
   "cell_type": "markdown",
   "id": "aa8f31d7",
   "metadata": {},
   "source": [
    "## ML Starts"
   ]
  },
  {
   "cell_type": "markdown",
   "id": "6d0c7438",
   "metadata": {},
   "source": [
    "### Libraries useful"
   ]
  },
  {
   "cell_type": "code",
   "execution_count": 6,
   "id": "dc2710d5",
   "metadata": {},
   "outputs": [],
   "source": [
    "import pandas as pd   # Read data \n",
    "import numpy as np    # Mathamatics\n",
    "import matplotlib.pyplot as plt  #Use for graphical content "
   ]
  },
  {
   "cell_type": "code",
   "execution_count": null,
   "id": "4f28afbd",
   "metadata": {},
   "outputs": [],
   "source": []
  },
  {
   "cell_type": "markdown",
   "id": "db3628c5",
   "metadata": {},
   "source": [
    "### Read Data"
   ]
  },
  {
   "cell_type": "code",
   "execution_count": 13,
   "id": "7834bd92",
   "metadata": {},
   "outputs": [],
   "source": [
    "# df = pd.read_csv('./Data Sets/homeprices_linear.csv')\n",
    "# df.head()"
   ]
  },
  {
   "cell_type": "code",
   "execution_count": null,
   "id": "9f21b6e1",
   "metadata": {},
   "outputs": [],
   "source": []
  },
  {
   "cell_type": "markdown",
   "id": "ec94d516",
   "metadata": {},
   "source": [
    "### Plot data"
   ]
  },
  {
   "cell_type": "code",
   "execution_count": 15,
   "id": "d573ec71",
   "metadata": {},
   "outputs": [],
   "source": [
    "# %matplotlib inline\n",
    "# plt.xlabel('Area')\n",
    "# plt.ylabel('Price')\n",
    "# plt.scatter(df.area, df.price, color='red', marker='+')\n",
    "# plt.plot(df.area, reg.predict(df[['area']]), color='blue')"
   ]
  },
  {
   "cell_type": "code",
   "execution_count": null,
   "id": "d59d1d05",
   "metadata": {},
   "outputs": [],
   "source": []
  },
  {
   "cell_type": "code",
   "execution_count": null,
   "id": "49d11238",
   "metadata": {},
   "outputs": [],
   "source": []
  },
  {
   "cell_type": "code",
   "execution_count": null,
   "id": "12752f88",
   "metadata": {},
   "outputs": [],
   "source": []
  },
  {
   "cell_type": "markdown",
   "id": "844ec14b",
   "metadata": {},
   "source": [
    "### Model Creation"
   ]
  },
  {
   "cell_type": "code",
   "execution_count": 7,
   "id": "b0f71dcb",
   "metadata": {},
   "outputs": [],
   "source": [
    "# # Linear regression model\n",
    "# from sklearn import linear_model\n",
    "# reg = linear_model.LinearRegression()\n",
    "# reg.fit(df[['area']],df[['price']])"
   ]
  },
  {
   "cell_type": "code",
   "execution_count": null,
   "id": "3423aebf",
   "metadata": {},
   "outputs": [],
   "source": []
  },
  {
   "cell_type": "code",
   "execution_count": null,
   "id": "c2f5f619",
   "metadata": {},
   "outputs": [],
   "source": []
  },
  {
   "cell_type": "markdown",
   "id": "fdf280ad",
   "metadata": {},
   "source": [
    "### Prediction"
   ]
  },
  {
   "cell_type": "code",
   "execution_count": 16,
   "id": "c46385f4",
   "metadata": {},
   "outputs": [],
   "source": [
    "# df['Prediction'] = reg.predict(df[['area']])"
   ]
  },
  {
   "cell_type": "code",
   "execution_count": 17,
   "id": "74943d5f",
   "metadata": {},
   "outputs": [],
   "source": [
    "# df.to_csv('./predictions.csv')"
   ]
  },
  {
   "cell_type": "code",
   "execution_count": null,
   "id": "0231ed6a",
   "metadata": {},
   "outputs": [],
   "source": []
  }
 ],
 "metadata": {
  "kernelspec": {
   "display_name": "Python 3 (ipykernel)",
   "language": "python",
   "name": "python3"
  },
  "language_info": {
   "codemirror_mode": {
    "name": "ipython",
    "version": 3
   },
   "file_extension": ".py",
   "mimetype": "text/x-python",
   "name": "python",
   "nbconvert_exporter": "python",
   "pygments_lexer": "ipython3",
   "version": "3.9.13"
  }
 },
 "nbformat": 4,
 "nbformat_minor": 5
}
