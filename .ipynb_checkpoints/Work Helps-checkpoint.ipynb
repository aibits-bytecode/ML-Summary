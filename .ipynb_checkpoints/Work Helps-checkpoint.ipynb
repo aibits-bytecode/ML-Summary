{
 "cells": [
  {
   "cell_type": "markdown",
   "id": "965ff02a",
   "metadata": {},
   "source": [
    "## ML Starts"
   ]
  },
  {
   "cell_type": "markdown",
   "id": "fa6ed165",
   "metadata": {},
   "source": [
    "### Libraries useful"
   ]
  },
  {
   "cell_type": "code",
   "execution_count": 6,
   "id": "7cf3d9f7",
   "metadata": {},
   "outputs": [],
   "source": [
    "import pandas as pd   # Read data \n",
    "import numpy as np    # Mathamatics\n",
    "import matplotlib.pyplot as plt  #Use for graphical content "
   ]
  },
  {
   "cell_type": "code",
   "execution_count": null,
   "id": "ed2de233",
   "metadata": {},
   "outputs": [],
   "source": []
  },
  {
   "cell_type": "markdown",
   "id": "15751049",
   "metadata": {},
   "source": [
    "### Read Data"
   ]
  },
  {
   "cell_type": "code",
   "execution_count": 13,
   "id": "3c9079dd",
   "metadata": {},
   "outputs": [],
   "source": [
    "# df = pd.read_csv('./Data Sets/homeprices_linear.csv')\n",
    "# df.head()"
   ]
  },
  {
   "cell_type": "code",
   "execution_count": null,
   "id": "eaf56146",
   "metadata": {},
   "outputs": [],
   "source": []
  },
  {
   "cell_type": "markdown",
   "id": "b1172fc2",
   "metadata": {},
   "source": [
    "### Plot data"
   ]
  },
  {
   "cell_type": "code",
   "execution_count": 15,
   "id": "3fc380f9",
   "metadata": {},
   "outputs": [],
   "source": [
    "# %matplotlib inline\n",
    "# plt.xlabel('Area')\n",
    "# plt.ylabel('Price')\n",
    "# plt.scatter(df.area, df.price, color='red', marker='+')\n",
    "# plt.plot(df.area, reg.predict(df[['area']]), color='blue')"
   ]
  },
  {
   "cell_type": "code",
   "execution_count": null,
   "id": "f50cffa0",
   "metadata": {},
   "outputs": [],
   "source": []
  },
  {
   "cell_type": "markdown",
   "id": "7c9e1445",
   "metadata": {},
   "source": [
    "### Data preprocessing"
   ]
  },
  {
   "cell_type": "markdown",
   "id": "9ce95b9c",
   "metadata": {},
   "source": [
    "### Handling null values"
   ]
  },
  {
   "cell_type": "code",
   "execution_count": 19,
   "id": "c2779c21",
   "metadata": {},
   "outputs": [],
   "source": [
    "# # Handling null values\n",
    "# import math\n",
    "# median_bedrooms = math.floor(df.bedrooms.median())\n",
    "# df.bedrooms.fillna(median_bedrooms)"
   ]
  },
  {
   "cell_type": "code",
   "execution_count": null,
   "id": "3f36d78b",
   "metadata": {},
   "outputs": [],
   "source": []
  },
  {
   "cell_type": "markdown",
   "id": "0be1c86c",
   "metadata": {},
   "source": [
    "### Model Creation"
   ]
  },
  {
   "cell_type": "code",
   "execution_count": 18,
   "id": "0ec74b0e",
   "metadata": {},
   "outputs": [],
   "source": [
    "# # Linear regression model on single values\n",
    "# from sklearn import linear_model\n",
    "# reg = linear_model.LinearRegression()\n",
    "# reg.fit(df[['area']],df[['price']])\n",
    "\n",
    "# # Linear regression on multiple features\n",
    "# reg = linear_model.LinearRegression()\n",
    "# reg.fit(df[['area','bedrooms','age']],df.price)"
   ]
  },
  {
   "cell_type": "code",
   "execution_count": null,
   "id": "0629dd3f",
   "metadata": {},
   "outputs": [],
   "source": []
  },
  {
   "cell_type": "code",
   "execution_count": null,
   "id": "21d87954",
   "metadata": {},
   "outputs": [],
   "source": []
  },
  {
   "cell_type": "markdown",
   "id": "ce55351b",
   "metadata": {},
   "source": [
    "### Prediction"
   ]
  },
  {
   "cell_type": "code",
   "execution_count": 16,
   "id": "d61e3c56",
   "metadata": {},
   "outputs": [],
   "source": [
    "# df['Prediction'] = reg.predict(df[['area']])"
   ]
  },
  {
   "cell_type": "code",
   "execution_count": 17,
   "id": "581512fb",
   "metadata": {},
   "outputs": [],
   "source": [
    "# df.to_csv('./predictions.csv')"
   ]
  },
  {
   "cell_type": "code",
   "execution_count": null,
   "id": "e6ec5376",
   "metadata": {},
   "outputs": [],
   "source": []
  }
 ],
 "metadata": {
  "kernelspec": {
   "display_name": "Python 3 (ipykernel)",
   "language": "python",
   "name": "python3"
  },
  "language_info": {
   "codemirror_mode": {
    "name": "ipython",
    "version": 3
   },
   "file_extension": ".py",
   "mimetype": "text/x-python",
   "name": "python",
   "nbconvert_exporter": "python",
   "pygments_lexer": "ipython3",
   "version": "3.9.13"
  }
 },
 "nbformat": 4,
 "nbformat_minor": 5
}
